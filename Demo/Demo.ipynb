{
 "cells": [
  {
   "cell_type": "code",
   "execution_count": 1,
   "id": "9358b1f7-1ff2-47a7-9df7-05def529a600",
   "metadata": {},
   "outputs": [],
   "source": [
    "import numpy as np\n",
    "import torch\n",
    "import torch.nn.functional as F\n",
    "import torchaudio\n",
    "import soundfile as sf\n",
    "import os\n",
    "import torch.nn as nn"
   ]
  },
  {
   "cell_type": "code",
   "execution_count": 2,
   "id": "86251b37-a704-4808-8e5a-b4638a432d38",
   "metadata": {},
   "outputs": [],
   "source": [
    "class SpeakerVerificationModel(nn.Module):\n",
    "    def __init__(self,embed_dim=128):\n",
    "        super(SpeakerVerificationModel, self).__init__()\n",
    "        self.conv1 = nn.Conv2d(1, 16, kernel_size=3, stride=1, padding=1)\n",
    "        self.conv2 = nn.Conv2d(16, 32, kernel_size=3, stride=1, padding=1)\n",
    "        self.pool = nn.MaxPool2d(2)\n",
    "        self.conv3 = nn.Conv2d(32, 64, kernel_size=3, stride=1, padding=1)\n",
    "        self.global_pool = nn.AdaptiveAvgPool2d((1, 1))\n",
    "        self.fc = nn.Linear(64, embed_dim) \n",
    "\n",
    "    def forward(self, x):\n",
    "        x = F.relu(self.conv1(x))\n",
    "        x = self.pool(x)\n",
    "        x = F.relu(self.conv2(x))\n",
    "        x = self.pool(x)\n",
    "        x = F.relu(self.conv3(x))\n",
    "        x = self.global_pool(x) \n",
    "        x = x.view(x.size(0), -1)  # [B, 64]\n",
    "        x = self.fc(x)            # [B, embed_dim]\n",
    "        x = F.normalize(x, p=2, dim=1)\n",
    "        return x\n",
    "\n",
    "model = SpeakerVerificationModel()"
   ]
  },
  {
   "cell_type": "code",
   "execution_count": 3,
   "id": "0adcfec1-217b-49f2-81c7-c711cce3e76f",
   "metadata": {},
   "outputs": [
    {
     "name": "stderr",
     "output_type": "stream",
     "text": [
      "C:\\Users\\VICTUS\\AppData\\Local\\Temp\\ipykernel_11748\\2271369171.py:1: FutureWarning: You are using `torch.load` with `weights_only=False` (the current default value), which uses the default pickle module implicitly. It is possible to construct malicious pickle data which will execute arbitrary code during unpickling (See https://github.com/pytorch/pytorch/blob/main/SECURITY.md#untrusted-models for more details). In a future release, the default value for `weights_only` will be flipped to `True`. This limits the functions that could be executed during unpickling. Arbitrary objects will no longer be allowed to be loaded via this mode unless they are explicitly allowlisted by the user via `torch.serialization.add_safe_globals`. We recommend you start setting `weights_only=True` for any use case where you don't have full control of the loaded file. Please open an issue on GitHub for any issues related to this experimental feature.\n",
      "  model.load_state_dict(torch.load('..\\siamese_speaker_model.pth', map_location=torch.device('cpu')))\n"
     ]
    },
    {
     "data": {
      "text/plain": [
       "<All keys matched successfully>"
      ]
     },
     "execution_count": 3,
     "metadata": {},
     "output_type": "execute_result"
    }
   ],
   "source": [
    "model.load_state_dict(torch.load('..\\siamese_speaker_model.pth', map_location=torch.device('cpu')))"
   ]
  },
  {
   "cell_type": "code",
   "execution_count": 4,
   "id": "04f01a67-196b-431b-9d43-50d1d549a87a",
   "metadata": {},
   "outputs": [
    {
     "data": {
      "text/plain": [
       "SpeakerVerificationModel(\n",
       "  (conv1): Conv2d(1, 16, kernel_size=(3, 3), stride=(1, 1), padding=(1, 1))\n",
       "  (conv2): Conv2d(16, 32, kernel_size=(3, 3), stride=(1, 1), padding=(1, 1))\n",
       "  (pool): MaxPool2d(kernel_size=2, stride=2, padding=0, dilation=1, ceil_mode=False)\n",
       "  (conv3): Conv2d(32, 64, kernel_size=(3, 3), stride=(1, 1), padding=(1, 1))\n",
       "  (global_pool): AdaptiveAvgPool2d(output_size=(1, 1))\n",
       "  (fc): Linear(in_features=64, out_features=128, bias=True)\n",
       ")"
      ]
     },
     "execution_count": 4,
     "metadata": {},
     "output_type": "execute_result"
    }
   ],
   "source": [
    "model.eval()"
   ]
  },
  {
   "cell_type": "code",
   "execution_count": 5,
   "id": "ac1703ca-bc2e-4798-a720-98e14c804c1b",
   "metadata": {},
   "outputs": [],
   "source": [
    "def load_mel_spec(file_path, sr=16000, n_mels=40):\n",
    "    \"\"\"\n",
    "    Load a .wav file and return a Mel-spectrogram (1, n_mels, time).\n",
    "    \"\"\"\n",
    "    audio_data, orig_sr = sf.read(file_path)\n",
    "    audio_tensor = torch.from_numpy(audio_data).float().unsqueeze(0)\n",
    "    if orig_sr != sr:\n",
    "        audio_tensor = torchaudio.functional.resample(audio_tensor, orig_sr, sr)\n",
    "    mel_transform = torchaudio.transforms.MelSpectrogram(sample_rate=sr, n_mels=n_mels)\n",
    "    to_db = torchaudio.transforms.AmplitudeToDB()\n",
    "    mel_spec = to_db(mel_transform(audio_tensor))\n",
    "    return mel_spec\n",
    "\n",
    "def enroll_speaker(model, file_paths, device='cpu'):\n",
    "    \"\"\"\n",
    "    Enroll a speaker using multiple .wav files to create an average embedding.\n",
    "    \"\"\"\n",
    "    model.eval()\n",
    "    embeddings = []\n",
    "    for fp in file_paths:\n",
    "        mel_spec = load_mel_spec(fp).unsqueeze(0).to(device)  # [1, 1, n_mels, time]\n",
    "        with torch.no_grad():\n",
    "            emb = model(mel_spec)\n",
    "        embeddings.append(emb.cpu().numpy())\n",
    "    avg_emb = np.mean(embeddings, axis=0)  # shape [1, embed_dim]\n",
    "    avg_emb = torch.from_numpy(avg_emb).float()\n",
    "    avg_emb = F.normalize(avg_emb, p=2, dim=1)\n",
    "    return avg_emb"
   ]
  },
  {
   "cell_type": "code",
   "execution_count": 6,
   "id": "181d3790-63d2-47e0-b956-bb210c4ba824",
   "metadata": {},
   "outputs": [],
   "source": [
    "def verify_speaker(model, enrolled_embedding, test_wav, threshold=0.5, device='cpu'):\n",
    "    \"\"\"\n",
    "    Compare test_wav embedding to the enrolled_embedding.\n",
    "    Return 'ACCEPT' if distance < threshold, else 'REJECT'.\n",
    "    \"\"\"\n",
    "    model.eval()\n",
    "    mel_spec = load_mel_spec(test_wav).unsqueeze(0).to(device)  # [1, 1, n_mels, time]\n",
    "    with torch.no_grad():\n",
    "        test_emb = model(mel_spec)  # [1, embed_dim]\n",
    "    test_emb = F.normalize(test_emb, p=2, dim=1)\n",
    "    dist = torch.norm(test_emb - enrolled_embedding.to(device), p=2).item()\n",
    "    print(f\"Distance to enrolled embedding: {dist:.3f}\")\n",
    "    if dist < threshold:\n",
    "        return \"ACCEPT\"\n",
    "    else:\n",
    "        return \"REJECT\""
   ]
  },
  {
   "cell_type": "code",
   "execution_count": 7,
   "id": "3e8e540d-c66b-41f2-b840-000941a4ed9a",
   "metadata": {},
   "outputs": [
    {
     "name": "stdout",
     "output_type": "stream",
     "text": [
      "Distance to enrolled embedding: 0.346\n",
      "Test file: test_files\\opt1.wav, Verification result: ACCEPT\n"
     ]
    }
   ],
   "source": [
    "enrollment_folder = 'enrollment_files'\n",
    "test_folder = 'test_files'\n",
    "if not os.path.exists(enrollment_folder):\n",
    "    raise FileNotFoundError(f\"Enrollment folder not found: {enrollment_folder}\")\n",
    "if not os.path.exists(test_folder):\n",
    "    raise FileNotFoundError(f\"Test folder not found: {test_folder}\")\n",
    "enrollment_files = [os.path.join(enrollment_folder, f) for f in os.listdir(enrollment_folder) if f.endswith('.wav')]\n",
    "enrolled_embedding = enroll_speaker(model, enrollment_files)\n",
    "test_files = [os.path.join(test_folder, f) for f in os.listdir(test_folder) if f.endswith('.wav')]\n",
    "for test_file in test_files:\n",
    "    result = verify_speaker(model, enrolled_embedding, test_file)\n",
    "    print(f\"Test file: {test_file}, Verification result: {result}\")"
   ]
  },
  {
   "cell_type": "code",
   "execution_count": null,
   "id": "a53f202c-fd2f-4de0-958b-8254e03da1a5",
   "metadata": {},
   "outputs": [],
   "source": []
  }
 ],
 "metadata": {
  "kernelspec": {
   "display_name": "Python 3 (ipykernel)",
   "language": "python",
   "name": "python3"
  },
  "language_info": {
   "codemirror_mode": {
    "name": "ipython",
    "version": 3
   },
   "file_extension": ".py",
   "mimetype": "text/x-python",
   "name": "python",
   "nbconvert_exporter": "python",
   "pygments_lexer": "ipython3",
   "version": "3.8.20"
  }
 },
 "nbformat": 4,
 "nbformat_minor": 5
}
